{
 "cells": [
  {
   "cell_type": "code",
   "execution_count": 4,
   "id": "c3f64412-b990-4fa9-9984-990d2d380cf7",
   "metadata": {},
   "outputs": [
    {
     "ename": "ImportError",
     "evalue": "cannot import name 'settings' from 'app.core.config' (/workspaces/fullstackcore/backend/app/core/config.py)",
     "output_type": "error",
     "traceback": [
      "\u001b[0;31m---------------------------------------------------------------------------\u001b[0m",
      "\u001b[0;31mImportError\u001b[0m                               Traceback (most recent call last)",
      "Cell \u001b[0;32mIn[4], line 1\u001b[0m\n\u001b[0;32m----> 1\u001b[0m \u001b[38;5;28;01mfrom\u001b[39;00m \u001b[38;5;21;01mapp\u001b[39;00m\u001b[38;5;21;01m.\u001b[39;00m\u001b[38;5;21;01mcore\u001b[39;00m\u001b[38;5;21;01m.\u001b[39;00m\u001b[38;5;21;01mconfig\u001b[39;00m \u001b[38;5;28;01mimport\u001b[39;00m settings\n",
      "\u001b[0;31mImportError\u001b[0m: cannot import name 'settings' from 'app.core.config' (/workspaces/fullstackcore/backend/app/core/config.py)"
     ]
    }
   ],
   "source": [
    "from app.core.config import settings"
   ]
  },
  {
   "cell_type": "code",
   "execution_count": null,
   "id": "dbd60a4d-5802-43aa-958b-a8ed07a6c51f",
   "metadata": {},
   "outputs": [],
   "source": []
  }
 ],
 "metadata": {
  "kernelspec": {
   "display_name": "Python 3 (ipykernel)",
   "language": "python",
   "name": "python3"
  },
  "language_info": {
   "codemirror_mode": {
    "name": "ipython",
    "version": 3
   },
   "file_extension": ".py",
   "mimetype": "text/x-python",
   "name": "python",
   "nbconvert_exporter": "python",
   "pygments_lexer": "ipython3",
   "version": "3.12.2"
  }
 },
 "nbformat": 4,
 "nbformat_minor": 5
}
